{
 "cells": [
  {
   "cell_type": "code",
   "execution_count": 20,
   "metadata": {},
   "outputs": [],
   "source": [
    "import pandas\n",
    "import numpy\n",
    "import scipy\n",
    "import sys\n",
    "import sklearn\n",
    "import matplotlib.pyplot as plt"
   ]
  },
  {
   "cell_type": "code",
   "execution_count": 21,
   "metadata": {},
   "outputs": [],
   "source": [
    "from pandas.plotting import scatter_matrix\n",
    "from sklearn import model_selection\n",
    "from sklearn.metrics import classification_report\n",
    "from sklearn.metrics import confusion_matrix\n",
    "from sklearn.metrics import accuracy_score\n",
    "from sklearn.linear_model import LogisticRegression\n",
    "from sklearn.tree import DecisionTreeClassifier\n",
    "from sklearn.neighbors import KNeighborsClassifier\n",
    "from sklearn.discriminant_analysis import LinearDiscriminantAnalysis\n",
    "from sklearn.naive_bayes import GaussianNB\n",
    "from sklearn.svm import SVC\n",
    "from sklearn.model_selection import cross_val_score\n",
    "from sklearn.model_selection import train_test_split"
   ]
  },
  {
   "cell_type": "code",
   "execution_count": 22,
   "metadata": {},
   "outputs": [],
   "source": [
    "from sklearn.metrics import log_loss\n",
    "from sklearn.svm import LinearSVC, NuSVC\n",
    "from sklearn.ensemble import RandomForestClassifier, AdaBoostClassifier, GradientBoostingClassifier\n",
    "from sklearn.discriminant_analysis import QuadraticDiscriminantAnalysis"
   ]
  },
  {
   "cell_type": "code",
   "execution_count": 32,
   "metadata": {},
   "outputs": [],
   "source": [
    "#data = pandas.read_excel (r\"C:\\Users\\HPPC\\Videos\\Ph.D files\\sorting\\desktop new\\python related\\Untitled Folder\\data12.xlsx\", sheet_name=0)\n",
    "data = pandas.read_excel (r\"C:\\Users\\SHRI\\Videos\\PhD\\temparature\\Temp clasifi python code\\Untitled Folder\\NITK_kmc_12.xlsx\", sheet_name=0)"
   ]
  },
  {
   "cell_type": "code",
   "execution_count": 33,
   "metadata": {},
   "outputs": [],
   "source": [
    "dta1= [data]\n",
    "dta12 = pandas.concat((dta1), axis = 1)\n",
    "dta12.to_csv ('newdata312.csv',  index=False)\n",
    "df12= pandas.read_csv (\"newdata312.csv\")\n",
    "trans12= df12.T\n",
    "array12 = trans12.values\n",
    "X2 = array12[:,:-1]\n",
    "Y2 = array12[:,-1]"
   ]
  },
  {
   "cell_type": "code",
   "execution_count": 34,
   "metadata": {},
   "outputs": [
    {
     "data": {
      "text/plain": [
       "array(['DENGUE FEVER', 'DENGUE FEVER', 'DENGUE FEVER', 'DENGUE FEVER',\n",
       "       'DENGUE FEVER', 'DENGUE FEVER', 'DENGUE FEVER', 'DENGUE FEVER',\n",
       "       'DENGUE FEVER', 'DENGUE FEVER', 'DENGUE FEVER', 'DENGUE FEVER',\n",
       "       'DENGUE FEVER', 'DENGUE FEVER', 'DENGUE FEVER', 'DENGUE FEVER',\n",
       "       'DENGUE FEVER', 'DENGUE FEVER', 'DENGUE FEVER', 'DENGUE FEVER',\n",
       "       'DENGUE FEVER', 'DENGUE FEVER', 'DENGUE FEVER', 'DENGUE FEVER',\n",
       "       'DENGUE FEVER', 'DENGUE FEVER', 'DENGUE FEVER', 'DENGUE FEVER',\n",
       "       'DENGUE FEVER', 'DENGUE FEVER', 'DENGUE FEVER', 'DENGUE FEVER',\n",
       "       'DENGUE FEVER', 'DENGUE FEVER', 'DENGUE FEVER', 'DENGUE FEVER',\n",
       "       'DENGUE FEVER', 'DENGUE FEVER', 'DENGUE FEVER', 'DENGUE FEVER',\n",
       "       'DENGUE FEVER', 'TUBERCULOSIS', 'TUBERCULOSIS', 'TUBERCULOSIS',\n",
       "       'TUBERCULOSIS', 'TUBERCULOSIS', 'TUBERCULOSIS', 'TUBERCULOSIS',\n",
       "       'TUBERCULOSIS', 'TUBERCULOSIS', 'TUBERCULOSIS',\n",
       "       'NON INFECTIOUS DISEASES', 'NON INFECTIOUS DISEASES',\n",
       "       'NON INFECTIOUS DISEASES', 'NON INFECTIOUS DISEASES',\n",
       "       'NON INFECTIOUS DISEASES', 'NON INFECTIOUS DISEASES',\n",
       "       'NON INFECTIOUS DISEASES', 'NON INFECTIOUS DISEASES',\n",
       "       'NON INFECTIOUS DISEASES', 'NON INFECTIOUS DISEASES', 'MALARIA',\n",
       "       'MALARIA', 'MALARIA', 'MALARIA', 'MALARIA', 'MALARIA', 'MALARIA',\n",
       "       'MALARIA', 'MALARIA', 'MALARIA', 'MALARIA', 'MALARIA', 'MALARIA',\n",
       "       'MALARIA', 'MALARIA', 'MALARIA',\n",
       "       'NON TUBERCULAR BACTERIAL INFECTIONS',\n",
       "       'NON TUBERCULAR BACTERIAL INFECTIONS',\n",
       "       'NON TUBERCULAR BACTERIAL INFECTIONS',\n",
       "       'NON TUBERCULAR BACTERIAL INFECTIONS',\n",
       "       'NON TUBERCULAR BACTERIAL INFECTIONS',\n",
       "       'NON TUBERCULAR BACTERIAL INFECTIONS',\n",
       "       'NON TUBERCULAR BACTERIAL INFECTIONS',\n",
       "       'NON TUBERCULAR BACTERIAL INFECTIONS',\n",
       "       'NON TUBERCULAR BACTERIAL INFECTIONS',\n",
       "       'NON TUBERCULAR BACTERIAL INFECTIONS',\n",
       "       'NON TUBERCULAR BACTERIAL INFECTIONS',\n",
       "       'NON TUBERCULAR BACTERIAL INFECTIONS',\n",
       "       'NON TUBERCULAR BACTERIAL INFECTIONS',\n",
       "       'NON TUBERCULAR BACTERIAL INFECTIONS',\n",
       "       'NON TUBERCULAR BACTERIAL INFECTIONS',\n",
       "       'NON TUBERCULAR BACTERIAL INFECTIONS',\n",
       "       'NON TUBERCULAR BACTERIAL INFECTIONS',\n",
       "       'NON TUBERCULAR BACTERIAL INFECTIONS',\n",
       "       'NON TUBERCULAR BACTERIAL INFECTIONS',\n",
       "       'NON TUBERCULAR BACTERIAL INFECTIONS',\n",
       "       'NON TUBERCULAR BACTERIAL INFECTIONS',\n",
       "       'NON TUBERCULAR BACTERIAL INFECTIONS',\n",
       "       'NON TUBERCULAR BACTERIAL INFECTIONS', 'DENGUE FEVER',\n",
       "       'DENGUE FEVER', 'DENGUE FEVER', 'DENGUE FEVER', 'DENGUE FEVER',\n",
       "       'DENGUE FEVER', 'DENGUE FEVER', 'DENGUE FEVER', 'DENGUE FEVER',\n",
       "       'DENGUE FEVER', 'DENGUE FEVER', 'DENGUE FEVER', 'DENGUE FEVER',\n",
       "       'DENGUE FEVER', 'DENGUE FEVER', 'DENGUE FEVER', 'DENGUE FEVER',\n",
       "       'DENGUE FEVER', 'DENGUE FEVER', 'DENGUE FEVER', 'DENGUE FEVER',\n",
       "       'DENGUE FEVER', 'DENGUE FEVER', 'DENGUE FEVER', 'DENGUE FEVER',\n",
       "       'DENGUE FEVER', 'DENGUE FEVER', 'DENGUE FEVER', 'DENGUE FEVER',\n",
       "       'DENGUE FEVER', 'DENGUE FEVER', 'DENGUE FEVER', 'DENGUE FEVER',\n",
       "       'DENGUE FEVER', 'DENGUE FEVER', 'DENGUE FEVER', 'DENGUE FEVER',\n",
       "       'DENGUE FEVER', 'DENGUE FEVER', 'DENGUE FEVER', 'DENGUE FEVER',\n",
       "       'TUBERCULOSIS', 'TUBERCULOSIS', 'TUBERCULOSIS', 'TUBERCULOSIS',\n",
       "       'TUBERCULOSIS', 'TUBERCULOSIS', 'TUBERCULOSIS', 'TUBERCULOSIS',\n",
       "       'TUBERCULOSIS', 'TUBERCULOSIS', 'NON INFECTIOUS DISEASES',\n",
       "       'NON INFECTIOUS DISEASES', 'NON INFECTIOUS DISEASES',\n",
       "       'NON INFECTIOUS DISEASES', 'NON INFECTIOUS DISEASES',\n",
       "       'NON INFECTIOUS DISEASES', 'NON INFECTIOUS DISEASES',\n",
       "       'NON INFECTIOUS DISEASES', 'NON INFECTIOUS DISEASES',\n",
       "       'NON INFECTIOUS DISEASES', 'MALARIA', 'MALARIA', 'MALARIA',\n",
       "       'MALARIA', 'MALARIA', 'MALARIA', 'MALARIA', 'MALARIA', 'MALARIA',\n",
       "       'MALARIA', 'MALARIA', 'MALARIA', 'MALARIA', 'MALARIA', 'MALARIA',\n",
       "       'MALARIA', 'NON TUBERCULAR BACTERIAL INFECTIONS',\n",
       "       'NON TUBERCULAR BACTERIAL INFECTIONS',\n",
       "       'NON TUBERCULAR BACTERIAL INFECTIONS',\n",
       "       'NON TUBERCULAR BACTERIAL INFECTIONS',\n",
       "       'NON TUBERCULAR BACTERIAL INFECTIONS',\n",
       "       'NON TUBERCULAR BACTERIAL INFECTIONS',\n",
       "       'NON TUBERCULAR BACTERIAL INFECTIONS',\n",
       "       'NON TUBERCULAR BACTERIAL INFECTIONS',\n",
       "       'NON TUBERCULAR BACTERIAL INFECTIONS',\n",
       "       'NON TUBERCULAR BACTERIAL INFECTIONS',\n",
       "       'NON TUBERCULAR BACTERIAL INFECTIONS',\n",
       "       'NON TUBERCULAR BACTERIAL INFECTIONS',\n",
       "       'NON TUBERCULAR BACTERIAL INFECTIONS',\n",
       "       'NON TUBERCULAR BACTERIAL INFECTIONS',\n",
       "       'NON TUBERCULAR BACTERIAL INFECTIONS',\n",
       "       'NON TUBERCULAR BACTERIAL INFECTIONS',\n",
       "       'NON TUBERCULAR BACTERIAL INFECTIONS',\n",
       "       'NON TUBERCULAR BACTERIAL INFECTIONS',\n",
       "       'NON TUBERCULAR BACTERIAL INFECTIONS',\n",
       "       'NON TUBERCULAR BACTERIAL INFECTIONS',\n",
       "       'NON TUBERCULAR BACTERIAL INFECTIONS',\n",
       "       'NON TUBERCULAR BACTERIAL INFECTIONS',\n",
       "       'NON TUBERCULAR BACTERIAL INFECTIONS'], dtype=object)"
      ]
     },
     "execution_count": 34,
     "metadata": {},
     "output_type": "execute_result"
    }
   ],
   "source": [
    "Y2\n"
   ]
  },
  {
   "cell_type": "code",
   "execution_count": 35,
   "metadata": {},
   "outputs": [
    {
     "data": {
      "text/plain": [
       "43"
      ]
     },
     "execution_count": 35,
     "metadata": {},
     "output_type": "execute_result"
    }
   ],
   "source": [
    "# Split-out validation dataset\n",
    "validation_size = 0.5\n",
    "seed = 43\n",
    "X_train, X_validation, Y_train, Y_validation = model_selection.train_test_split(X2, Y2, test_size=validation_size, random_state=seed)\n",
    "# Test options and evaluation metric\n",
    "#seed = 10\n",
    "scoring = 'accuracy'\n",
    "seed"
   ]
  },
  {
   "cell_type": "code",
   "execution_count": 36,
   "metadata": {},
   "outputs": [
    {
     "name": "stdout",
     "output_type": "stream",
     "text": [
      "LR: 0.560000 (0.058310)\n"
     ]
    },
    {
     "name": "stderr",
     "output_type": "stream",
     "text": [
      "C:\\Users\\SHRI\\Anaconda3\\lib\\site-packages\\sklearn\\discriminant_analysis.py:388: UserWarning: Variables are collinear.\n",
      "  warnings.warn(\"Variables are collinear.\")\n",
      "C:\\Users\\SHRI\\Anaconda3\\lib\\site-packages\\sklearn\\discriminant_analysis.py:388: UserWarning: Variables are collinear.\n",
      "  warnings.warn(\"Variables are collinear.\")\n",
      "C:\\Users\\SHRI\\Anaconda3\\lib\\site-packages\\sklearn\\discriminant_analysis.py:388: UserWarning: Variables are collinear.\n",
      "  warnings.warn(\"Variables are collinear.\")\n",
      "C:\\Users\\SHRI\\Anaconda3\\lib\\site-packages\\sklearn\\discriminant_analysis.py:388: UserWarning: Variables are collinear.\n",
      "  warnings.warn(\"Variables are collinear.\")\n",
      "C:\\Users\\SHRI\\Anaconda3\\lib\\site-packages\\sklearn\\discriminant_analysis.py:388: UserWarning: Variables are collinear.\n",
      "  warnings.warn(\"Variables are collinear.\")\n"
     ]
    },
    {
     "name": "stdout",
     "output_type": "stream",
     "text": [
      "LDA: 0.380000 (0.116619)\n",
      "KNN: 0.600000 (0.083666)\n",
      "CART: 0.500000 (0.044721)\n",
      "NB: 0.530000 (0.136382)\n",
      "SVM: 0.490000 (0.096954)\n",
      "RF: 0.380000 (0.107703)\n"
     ]
    },
    {
     "name": "stderr",
     "output_type": "stream",
     "text": [
      "C:\\Users\\SHRI\\Anaconda3\\lib\\site-packages\\sklearn\\ensemble\\forest.py:245: FutureWarning: The default value of n_estimators will change from 10 in version 0.20 to 100 in 0.22.\n",
      "  \"10 in version 0.20 to 100 in 0.22.\", FutureWarning)\n",
      "C:\\Users\\SHRI\\Anaconda3\\lib\\site-packages\\sklearn\\ensemble\\forest.py:245: FutureWarning: The default value of n_estimators will change from 10 in version 0.20 to 100 in 0.22.\n",
      "  \"10 in version 0.20 to 100 in 0.22.\", FutureWarning)\n",
      "C:\\Users\\SHRI\\Anaconda3\\lib\\site-packages\\sklearn\\ensemble\\forest.py:245: FutureWarning: The default value of n_estimators will change from 10 in version 0.20 to 100 in 0.22.\n",
      "  \"10 in version 0.20 to 100 in 0.22.\", FutureWarning)\n",
      "C:\\Users\\SHRI\\Anaconda3\\lib\\site-packages\\sklearn\\ensemble\\forest.py:245: FutureWarning: The default value of n_estimators will change from 10 in version 0.20 to 100 in 0.22.\n",
      "  \"10 in version 0.20 to 100 in 0.22.\", FutureWarning)\n",
      "C:\\Users\\SHRI\\Anaconda3\\lib\\site-packages\\sklearn\\ensemble\\forest.py:245: FutureWarning: The default value of n_estimators will change from 10 in version 0.20 to 100 in 0.22.\n",
      "  \"10 in version 0.20 to 100 in 0.22.\", FutureWarning)\n"
     ]
    }
   ],
   "source": [
    "# Spot Check Algorithms\n",
    "models = []\n",
    "models.append(('LR', LogisticRegression(solver='liblinear', multi_class='ovr')))\n",
    "models.append(('LDA', LinearDiscriminantAnalysis()))\n",
    "models.append(('KNN', KNeighborsClassifier()))   \n",
    "models.append(('CART', DecisionTreeClassifier()))\n",
    "models.append(('NB', GaussianNB()))\n",
    "models.append(('SVM', SVC(gamma='auto')))\n",
    "models.append(('RF', RandomForestClassifier())) \n",
    "# evaluate each model in turn\n",
    "results = []\n",
    "names = []\n",
    "for name, model in models:\n",
    "\tkfold = model_selection.KFold(n_splits=5, random_state=seed)\n",
    "\tcv_results = model_selection.cross_val_score(model, X_train, Y_train, cv=kfold, scoring=scoring)\n",
    "\tresults.append(cv_results)\n",
    "\tnames.append(name)\n",
    "\tmsg = \"%s: %f (%f)\" % (name, cv_results.mean(), cv_results.std())\n",
    "\tprint(msg)"
   ]
  },
  {
   "cell_type": "code",
   "execution_count": 37,
   "metadata": {},
   "outputs": [
    {
     "data": {
      "image/png": "[encoded data removed]",
      "text/plain": [
       "<Figure size 432x288 with 1 Axes>"
      ]
     },
     "metadata": {
      "needs_background": "light"
     },
     "output_type": "display_data"
    }
   ],
   "source": [
    "# Compare Algorithms\n",
    "fig = plt.figure()\n",
    "fig.suptitle('Algorithm Comparison')\n",
    "ax = fig.add_subplot(111)\n",
    "plt.boxplot(results)\n",
    "ax.set_xticklabels(names)\n",
    "plt.show()"
   ]
  },
  {
   "cell_type": "code",
   "execution_count": 38,
   "metadata": {},
   "outputs": [
    {
     "name": "stdout",
     "output_type": "stream",
     "text": [
      "0.52\n",
      "[[21 12  0  5  0]\n",
      " [ 7  7  1  2  0]\n",
      " [ 0  0  6  1  1]\n",
      " [ 3  4  8 10  1]\n",
      " [ 0  0  0  3  8]]\n",
      "                                     precision    recall  f1-score   support\n",
      "\n",
      "                       DENGUE FEVER       0.68      0.55      0.61        38\n",
      "                            MALARIA       0.30      0.41      0.35        17\n",
      "            NON INFECTIOUS DISEASES       0.40      0.75      0.52         8\n",
      "NON TUBERCULAR BACTERIAL INFECTIONS       0.48      0.38      0.43        26\n",
      "                       TUBERCULOSIS       0.80      0.73      0.76        11\n",
      "\n",
      "                           accuracy                           0.52       100\n",
      "                          macro avg       0.53      0.57      0.53       100\n",
      "                       weighted avg       0.55      0.52      0.53       100\n",
      "\n"
     ]
    }
   ],
   "source": [
    "# Make predictions on validation dataset\n",
    "cart = DecisionTreeClassifier()\n",
    "decesiontree = cart.fit(X_train, Y_train)\n",
    "predictions = cart.predict(X_validation)\n",
    "predictions\n",
    "print(accuracy_score(Y_validation, predictions))\n",
    "#print(confusion_matrix(X_train, predictions))\n",
    "print(confusion_matrix(Y_validation, predictions))\n",
    "print(classification_report(Y_validation, predictions))\n",
    "#y_pred = cart.fit(X_train, Y_train).predict(X_validation)\n",
    "#y_pred\n",
    "#pred = decesiontree.predict(X_validation)\n"
   ]
  },
  {
   "cell_type": "code",
   "execution_count": 39,
   "metadata": {},
   "outputs": [
    {
     "name": "stdout",
     "output_type": "stream",
     "text": [
      "[[82  0  0  0  0]\n",
      " [ 0 32  0  0  0]\n",
      " [ 0  0 20  0  0]\n",
      " [ 0  0  0 46  0]\n",
      " [ 0  0  0  0 20]]\n"
     ]
    }
   ],
   "source": [
    "# Get the data\n",
    "from sklearn.datasets import load_digits\n",
    "#digits = load_digits()\n",
    "X = X2\n",
    "y = Y2\n",
    "\n",
    "# Instantiate and train the classifier\n",
    "from sklearn.neighbors import KNeighborsClassifier\n",
    "clf = KNeighborsClassifier(n_neighbors=1)\n",
    "clf.fit(X, y) \n",
    "\n",
    "\n",
    "# Check the results using metrics\n",
    "from sklearn import metrics\n",
    "y_pred = clf.predict(X)\n",
    "\n",
    "print(metrics.confusion_matrix(y_pred, y))"
   ]
  },
  {
   "cell_type": "code",
   "execution_count": 40,
   "metadata": {},
   "outputs": [
    {
     "name": "stdout",
     "output_type": "stream",
     "text": [
      "(200, 729), (150, 729), (50, 729)\n",
      "[[22  0  0  0  0]\n",
      " [ 0  7  0  0  0]\n",
      " [ 0  0  5  0  0]\n",
      " [ 2  0  0  8  0]\n",
      " [ 0  0  0  0  6]]\n",
      "                                     precision    recall  f1-score   support\n",
      "\n",
      "                       DENGUE FEVER       0.92      1.00      0.96        22\n",
      "                            MALARIA       1.00      1.00      1.00         7\n",
      "            NON INFECTIOUS DISEASES       1.00      1.00      1.00         5\n",
      "NON TUBERCULAR BACTERIAL INFECTIONS       1.00      0.80      0.89        10\n",
      "                       TUBERCULOSIS       1.00      1.00      1.00         6\n",
      "\n",
      "                           accuracy                           0.96        50\n",
      "                          macro avg       0.98      0.96      0.97        50\n",
      "                       weighted avg       0.96      0.96      0.96        50\n",
      "\n"
     ]
    },
    {
     "data": {
      "text/plain": [
       "0.9690821256038646"
      ]
     },
     "execution_count": 40,
     "metadata": {},
     "output_type": "execute_result"
    }
   ],
   "source": [
    "from sklearn import model_selection\n",
    "X = X2\n",
    "y = Y2\n",
    "\n",
    "X_train, X_test, y_train, y_test = model_selection.train_test_split(X, y,\n",
    "                                        test_size=0.25, random_state=0)\n",
    "\n",
    "print(\"%r, %r, %r\" % (X.shape, X_train.shape, X_test.shape))\n",
    "clf = KNeighborsClassifier(n_neighbors=1).fit(X_train, y_train)\n",
    "y_pred = clf.predict(X_test)\n",
    "\n",
    "print(metrics.confusion_matrix(y_test, y_pred))\n",
    "print(metrics.classification_report(y_test, y_pred))\n",
    "metrics.f1_score(y_test, y_pred, average=\"macro\") "
   ]
  },
  {
   "cell_type": "code",
   "execution_count": 14,
   "metadata": {},
   "outputs": [
    {
     "name": "stderr",
     "output_type": "stream",
     "text": [
      "C:\\Users\\SHRI\\Anaconda3\\lib\\site-packages\\sklearn\\metrics\\classification.py:1437: UndefinedMetricWarning: F-score is ill-defined and being set to 0.0 in labels with no predicted samples.\n",
      "  'precision', 'predicted', average, warn_for)\n"
     ]
    },
    {
     "name": "stdout",
     "output_type": "stream",
     "text": [
      "GaussianNB: 0.31333333333333335\n",
      "KNeighborsClassifier: 0.4514285714285715\n",
      "LinearSVC: 0.28465608465608466\n",
      "DecisionTreeClassifier: 0.42000000000000004\n"
     ]
    },
    {
     "name": "stderr",
     "output_type": "stream",
     "text": [
      "C:\\Users\\SHRI\\Anaconda3\\lib\\site-packages\\sklearn\\svm\\base.py:929: ConvergenceWarning: Liblinear failed to converge, increase the number of iterations.\n",
      "  \"the number of iterations.\", ConvergenceWarning)\n",
      "C:\\Users\\SHRI\\Anaconda3\\lib\\site-packages\\sklearn\\metrics\\classification.py:1437: UndefinedMetricWarning: F-score is ill-defined and being set to 0.0 in labels with no predicted samples.\n",
      "  'precision', 'predicted', average, warn_for)\n",
      "C:\\Users\\SHRI\\Anaconda3\\lib\\site-packages\\sklearn\\metrics\\classification.py:1437: UndefinedMetricWarning: F-score is ill-defined and being set to 0.0 in labels with no predicted samples.\n",
      "  'precision', 'predicted', average, warn_for)\n"
     ]
    }
   ],
   "source": [
    "from sklearn.naive_bayes import GaussianNB\n",
    "from sklearn.neighbors import KNeighborsClassifier\n",
    "from sklearn.svm import LinearSVC\n",
    "from sklearn.tree import DecisionTreeRegressor\n",
    "from sklearn.tree import DecisionTreeClassifier\n",
    "\n",
    "X = X2\n",
    "y = Y2\n",
    "X_train, X_test, y_train, y_test = model_selection.train_test_split(X, y,\n",
    "                            test_size=0.25, random_state=0)\n",
    "\n",
    "for Model in [GaussianNB, KNeighborsClassifier, LinearSVC, DecisionTreeClassifier]:\n",
    "    clf = Model().fit(X_train, y_train)\n",
    "    y_pred = clf.predict(X_test)\n",
    "    print('%s: %s' %\n",
    "          (Model.__name__, metrics.f1_score(y_test, y_pred, average=\"macro\")))  "
   ]
  },
  {
   "cell_type": "code",
   "execution_count": 19,
   "metadata": {},
   "outputs": [
    {
     "ename": "ImportError",
     "evalue": "cannot import name 'plot_confusion_matrix' from 'sklearn.metrics' (C:\\Users\\SHRI\\Anaconda3\\lib\\site-packages\\sklearn\\metrics\\__init__.py)",
     "output_type": "error",
     "traceback": [
      "\u001b[1;31m---------------------------------------------------------------------------\u001b[0m",
      "\u001b[1;31mImportError\u001b[0m                               Traceback (most recent call last)",
      "\u001b[1;32m<ipython-input-19-5b85f52986ad>\u001b[0m in \u001b[0;36m<module>\u001b[1;34m\u001b[0m\n\u001b[0;32m      4\u001b[0m \u001b[1;32mfrom\u001b[0m \u001b[0msklearn\u001b[0m \u001b[1;32mimport\u001b[0m \u001b[0msvm\u001b[0m\u001b[1;33m,\u001b[0m \u001b[0mdatasets\u001b[0m\u001b[1;33m\u001b[0m\u001b[1;33m\u001b[0m\u001b[0m\n\u001b[0;32m      5\u001b[0m \u001b[1;32mfrom\u001b[0m \u001b[0msklearn\u001b[0m\u001b[1;33m.\u001b[0m\u001b[0mmodel_selection\u001b[0m \u001b[1;32mimport\u001b[0m \u001b[0mtrain_test_split\u001b[0m\u001b[1;33m\u001b[0m\u001b[1;33m\u001b[0m\u001b[0m\n\u001b[1;32m----> 6\u001b[1;33m \u001b[1;32mfrom\u001b[0m \u001b[0msklearn\u001b[0m\u001b[1;33m.\u001b[0m\u001b[0mmetrics\u001b[0m \u001b[1;32mimport\u001b[0m \u001b[0mplot_confusion_matrix\u001b[0m\u001b[1;33m\u001b[0m\u001b[1;33m\u001b[0m\u001b[0m\n\u001b[0m\u001b[0;32m      7\u001b[0m \u001b[1;33m\u001b[0m\u001b[0m\n\u001b[0;32m      8\u001b[0m \u001b[1;31m# import some data to play with\u001b[0m\u001b[1;33m\u001b[0m\u001b[1;33m\u001b[0m\u001b[1;33m\u001b[0m\u001b[0m\n",
      "\u001b[1;31mImportError\u001b[0m: cannot import name 'plot_confusion_matrix' from 'sklearn.metrics' (C:\\Users\\SHRI\\Anaconda3\\lib\\site-packages\\sklearn\\metrics\\__init__.py)"
     ]
    }
   ],
   "source": [
    "import numpy as np\n",
    "import matplotlib.pyplot as plt\n",
    "\n",
    "from sklearn import svm, datasets\n",
    "from sklearn.model_selection import train_test_split\n",
    "from sklearn.metrics import plot_confusion_matrix\n",
    "\n",
    "# import some data to play with\n",
    "#iris = datasets.load_iris()\n",
    "X = X2\n",
    "y = Y2\n",
    "#class_names = Y2_names\n",
    "class_names = ['Dengue fever','Maleria','Non-infectious diseases', 'Non-tubercular bacterial infection', 'Tuberculosis']\n",
    "\n",
    "\n",
    "# Split the data into a training set and a test set\n",
    "X_train, X_test, y_train, y_test = train_test_split(X, y, random_state=0)\n",
    "\n",
    "# Run classifier, using a model that is too regularized (C too low) to see\n",
    "# the impact on the results\n",
    "classifier = svm.SVC(kernel='linear', C=0.01).fit(X_train, y_train)\n",
    "\n",
    "np.set_printoptions(precision=2)\n",
    "\n",
    "# Plot non-normalized confusion matrix\n",
    "titles_options = [(\"Confusion matrix, without normalization\", None),\n",
    "                  (\"Normalized confusion matrix\", 'true')]\n",
    "for title, normalize in titles_options:\n",
    "    disp = plot_confusion_matrix(classifier, X_test, y_test,\n",
    "                                 display_labels=class_names,\n",
    "                                 cmap=plt.cm.Blues,\n",
    "                                 normalize=normalize)\n",
    "    disp.ax_.set_title(title)\n",
    "\n",
    "    print(title)\n",
    "    print(disp.confusion_matrix)\n",
    "\n",
    "plt.show()"
   ]
  },
  {
   "cell_type": "code",
   "execution_count": 41,
   "metadata": {},
   "outputs": [
    {
     "ename": "NameError",
     "evalue": "name 'disp' is not defined",
     "output_type": "error",
     "traceback": [
      "\u001b[1;31m---------------------------------------------------------------------------\u001b[0m",
      "\u001b[1;31mNameError\u001b[0m                                 Traceback (most recent call last)",
      "\u001b[1;32m<ipython-input-41-5638526e7a57>\u001b[0m in \u001b[0;36m<module>\u001b[1;34m\u001b[0m\n\u001b[0;32m      2\u001b[0m \u001b[1;33m\u001b[0m\u001b[0m\n\u001b[0;32m      3\u001b[0m \u001b[0mlabels\u001b[0m \u001b[1;33m=\u001b[0m \u001b[0mclass_names\u001b[0m\u001b[1;33m\u001b[0m\u001b[1;33m\u001b[0m\u001b[0m\n\u001b[1;32m----> 4\u001b[1;33m \u001b[0mprint\u001b[0m\u001b[1;33m(\u001b[0m\u001b[0mdisp\u001b[0m\u001b[1;33m)\u001b[0m\u001b[1;33m\u001b[0m\u001b[1;33m\u001b[0m\u001b[0m\n\u001b[0m\u001b[0;32m      5\u001b[0m \u001b[0mfig\u001b[0m \u001b[1;33m=\u001b[0m \u001b[0mplt\u001b[0m\u001b[1;33m.\u001b[0m\u001b[0mfigure\u001b[0m\u001b[1;33m(\u001b[0m\u001b[1;33m)\u001b[0m\u001b[1;33m\u001b[0m\u001b[1;33m\u001b[0m\u001b[0m\n\u001b[0;32m      6\u001b[0m \u001b[0max\u001b[0m \u001b[1;33m=\u001b[0m \u001b[0mfig\u001b[0m\u001b[1;33m.\u001b[0m\u001b[0madd_subplot\u001b[0m\u001b[1;33m(\u001b[0m\u001b[1;36m111\u001b[0m\u001b[1;33m)\u001b[0m\u001b[1;33m\u001b[0m\u001b[1;33m\u001b[0m\u001b[0m\n",
      "\u001b[1;31mNameError\u001b[0m: name 'disp' is not defined"
     ]
    }
   ],
   "source": [
    "from sklearn.metrics import confusion_matrix\n",
    "\n",
    "labels = class_names\n",
    "print(disp)\n",
    "fig = plt.figure()\n",
    "ax = fig.add_subplot(111)\n",
    "cax = ax.matshow(disp)\n",
    "plt.title('Confusion matrix of the classifier')\n",
    "fig.colorbar(cax)\n",
    "ax.set_xticklabels([''] + labels)\n",
    "ax.set_yticklabels([''] + labels)\n",
    "plt.xlabel('Predicted')\n",
    "plt.ylabel('True')\n",
    "plt.show()"
   ]
  },
  {
   "cell_type": "code",
   "execution_count": null,
   "metadata": {},
   "outputs": [],
   "source": []
  }
 ],
 "metadata": {
  "kernelspec": {
   "display_name": "Python 3",
   "language": "python",
   "name": "python3"
  },
  "language_info": {
   "codemirror_mode": {
    "name": "ipython",
    "version": 3
   },
   "file_extension": ".py",
   "mimetype": "text/x-python",
   "name": "python",
   "nbconvert_exporter": "python",
   "pygments_lexer": "ipython3",
   "version": "3.7.4"
  }
 },
 "nbformat": 4,
 "nbformat_minor": 2
}
